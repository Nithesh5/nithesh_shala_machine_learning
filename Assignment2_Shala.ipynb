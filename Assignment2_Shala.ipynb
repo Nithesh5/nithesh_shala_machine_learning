{
  "nbformat": 4,
  "nbformat_minor": 0,
  "metadata": {
    "colab": {
      "name": "Assignment2 Shala.ipynb",
      "provenance": [],
      "collapsed_sections": [],
      "mount_file_id": "12F5wDL2UWWG-PBLobGKLWxXKdg0iMSl0",
      "authorship_tag": "ABX9TyOxAGUF8Qai8FvXgBAke1x7",
      "include_colab_link": true
    },
    "kernelspec": {
      "name": "python3",
      "display_name": "Python 3"
    }
  },
  "cells": [
    {
      "cell_type": "markdown",
      "metadata": {
        "id": "view-in-github",
        "colab_type": "text"
      },
      "source": [
        "<a href=\"https://colab.research.google.com/github/Nithesh5/nithesh_shala_machine_learning/blob/master/Assignment2_Shala.ipynb\" target=\"_parent\"><img src=\"https://colab.research.google.com/assets/colab-badge.svg\" alt=\"Open In Colab\"/></a>"
      ]
    },
    {
      "cell_type": "code",
      "metadata": {
        "id": "6IZ-jg8RzSDz",
        "colab_type": "code",
        "colab": {
          "base_uri": "https://localhost:8080/",
          "height": 51
        },
        "outputId": "dace1842-27e2-4dc4-a5d9-c6e4f552844e"
      },
      "source": [
        "import pandas as pd\n",
        "import numpy as np\n",
        "import matplotlib.pyplot as plt\n",
        "import seaborn as sns\n",
        "from pandas.plotting import scatter_matrix\n",
        "%matplotlib inline"
      ],
      "execution_count": 1,
      "outputs": [
        {
          "output_type": "stream",
          "text": [
            "/usr/local/lib/python3.6/dist-packages/statsmodels/tools/_testing.py:19: FutureWarning: pandas.util.testing is deprecated. Use the functions in the public API at pandas.testing instead.\n",
            "  import pandas.util.testing as tm\n"
          ],
          "name": "stderr"
        }
      ]
    },
    {
      "cell_type": "code",
      "metadata": {
        "id": "-aNH1QEsz33M",
        "colab_type": "code",
        "outputId": "69748e73-d7d6-4659-c495-56f49ca90d60",
        "colab": {
          "base_uri": "https://localhost:8080/",
          "height": 204
        }
      },
      "source": [
        "titanic_data = pd.read_csv('titanic.csv')\n",
        "titanic_data.head()"
      ],
      "execution_count": 2,
      "outputs": [
        {
          "output_type": "execute_result",
          "data": {
            "text/html": [
              "<div>\n",
              "<style scoped>\n",
              "    .dataframe tbody tr th:only-of-type {\n",
              "        vertical-align: middle;\n",
              "    }\n",
              "\n",
              "    .dataframe tbody tr th {\n",
              "        vertical-align: top;\n",
              "    }\n",
              "\n",
              "    .dataframe thead th {\n",
              "        text-align: right;\n",
              "    }\n",
              "</style>\n",
              "<table border=\"1\" class=\"dataframe\">\n",
              "  <thead>\n",
              "    <tr style=\"text-align: right;\">\n",
              "      <th></th>\n",
              "      <th>PassengerId</th>\n",
              "      <th>Survived</th>\n",
              "      <th>Pclass</th>\n",
              "      <th>Name</th>\n",
              "      <th>Sex</th>\n",
              "      <th>Age</th>\n",
              "      <th>SibSp</th>\n",
              "      <th>Parch</th>\n",
              "      <th>Ticket</th>\n",
              "      <th>Fare</th>\n",
              "      <th>Cabin</th>\n",
              "      <th>Embarked</th>\n",
              "    </tr>\n",
              "  </thead>\n",
              "  <tbody>\n",
              "    <tr>\n",
              "      <th>0</th>\n",
              "      <td>1</td>\n",
              "      <td>0</td>\n",
              "      <td>3</td>\n",
              "      <td>Braund, Mr. Owen Harris</td>\n",
              "      <td>male</td>\n",
              "      <td>22.0</td>\n",
              "      <td>1</td>\n",
              "      <td>0</td>\n",
              "      <td>A/5 21171</td>\n",
              "      <td>7.2500</td>\n",
              "      <td>NaN</td>\n",
              "      <td>S</td>\n",
              "    </tr>\n",
              "    <tr>\n",
              "      <th>1</th>\n",
              "      <td>2</td>\n",
              "      <td>1</td>\n",
              "      <td>1</td>\n",
              "      <td>Cumings, Mrs. John Bradley (Florence Briggs Th...</td>\n",
              "      <td>female</td>\n",
              "      <td>38.0</td>\n",
              "      <td>1</td>\n",
              "      <td>0</td>\n",
              "      <td>PC 17599</td>\n",
              "      <td>71.2833</td>\n",
              "      <td>C85</td>\n",
              "      <td>C</td>\n",
              "    </tr>\n",
              "    <tr>\n",
              "      <th>2</th>\n",
              "      <td>3</td>\n",
              "      <td>1</td>\n",
              "      <td>3</td>\n",
              "      <td>Heikkinen, Miss. Laina</td>\n",
              "      <td>female</td>\n",
              "      <td>26.0</td>\n",
              "      <td>0</td>\n",
              "      <td>0</td>\n",
              "      <td>STON/O2. 3101282</td>\n",
              "      <td>7.9250</td>\n",
              "      <td>NaN</td>\n",
              "      <td>S</td>\n",
              "    </tr>\n",
              "    <tr>\n",
              "      <th>3</th>\n",
              "      <td>4</td>\n",
              "      <td>1</td>\n",
              "      <td>1</td>\n",
              "      <td>Futrelle, Mrs. Jacques Heath (Lily May Peel)</td>\n",
              "      <td>female</td>\n",
              "      <td>35.0</td>\n",
              "      <td>1</td>\n",
              "      <td>0</td>\n",
              "      <td>113803</td>\n",
              "      <td>53.1000</td>\n",
              "      <td>C123</td>\n",
              "      <td>S</td>\n",
              "    </tr>\n",
              "    <tr>\n",
              "      <th>4</th>\n",
              "      <td>5</td>\n",
              "      <td>0</td>\n",
              "      <td>3</td>\n",
              "      <td>Allen, Mr. William Henry</td>\n",
              "      <td>male</td>\n",
              "      <td>35.0</td>\n",
              "      <td>0</td>\n",
              "      <td>0</td>\n",
              "      <td>373450</td>\n",
              "      <td>8.0500</td>\n",
              "      <td>NaN</td>\n",
              "      <td>S</td>\n",
              "    </tr>\n",
              "  </tbody>\n",
              "</table>\n",
              "</div>"
            ],
            "text/plain": [
              "   PassengerId  Survived  Pclass  ...     Fare Cabin  Embarked\n",
              "0            1         0       3  ...   7.2500   NaN         S\n",
              "1            2         1       1  ...  71.2833   C85         C\n",
              "2            3         1       3  ...   7.9250   NaN         S\n",
              "3            4         1       1  ...  53.1000  C123         S\n",
              "4            5         0       3  ...   8.0500   NaN         S\n",
              "\n",
              "[5 rows x 12 columns]"
            ]
          },
          "metadata": {
            "tags": []
          },
          "execution_count": 2
        }
      ]
    },
    {
      "cell_type": "code",
      "metadata": {
        "id": "ClKeraLrzW0F",
        "colab_type": "code",
        "outputId": "9657df54-85ba-43f1-a3a0-10bffc516110",
        "colab": {
          "base_uri": "https://localhost:8080/",
          "height": 34
        }
      },
      "source": [
        "titanic_data.shape"
      ],
      "execution_count": 3,
      "outputs": [
        {
          "output_type": "execute_result",
          "data": {
            "text/plain": [
              "(891, 12)"
            ]
          },
          "metadata": {
            "tags": []
          },
          "execution_count": 3
        }
      ]
    },
    {
      "cell_type": "code",
      "metadata": {
        "id": "P2fLsIcGz4PN",
        "colab_type": "code",
        "outputId": "835a2181-e7ac-497f-e966-efe69b475f75",
        "colab": {
          "base_uri": "https://localhost:8080/",
          "height": 238
        }
      },
      "source": [
        "print(titanic_data.isna().sum())"
      ],
      "execution_count": 4,
      "outputs": [
        {
          "output_type": "stream",
          "text": [
            "PassengerId      0\n",
            "Survived         0\n",
            "Pclass           0\n",
            "Name             0\n",
            "Sex              0\n",
            "Age            177\n",
            "SibSp            0\n",
            "Parch            0\n",
            "Ticket           0\n",
            "Fare             0\n",
            "Cabin          687\n",
            "Embarked         2\n",
            "dtype: int64\n"
          ],
          "name": "stdout"
        }
      ]
    },
    {
      "cell_type": "code",
      "metadata": {
        "id": "hHl0uzVIJqPj",
        "colab_type": "code",
        "outputId": "11902cdd-2d67-43ab-fe2d-762ade18cfe1",
        "colab": {
          "base_uri": "https://localhost:8080/",
          "height": 333
        }
      },
      "source": [
        "sns.heatmap(titanic_data.isnull(),yticklabels=False,cbar=False,cmap='viridis')"
      ],
      "execution_count": 5,
      "outputs": [
        {
          "output_type": "execute_result",
          "data": {
            "text/plain": [
              "<matplotlib.axes._subplots.AxesSubplot at 0x7f5d8c998630>"
            ]
          },
          "metadata": {
            "tags": []
          },
          "execution_count": 5
        },
        {
          "output_type": "display_data",
          "data": {
            "image/png": "[encoded data removed]",
            "text/plain": [
              "<Figure size 432x288 with 1 Axes>"
            ]
          },
          "metadata": {
            "tags": [],
            "needs_background": "light"
          }
        }
      ]
    },
    {
      "cell_type": "code",
      "metadata": {
        "id": "EKOeyhokMjWy",
        "colab_type": "code",
        "outputId": "a7e8f9e8-d1f2-451b-80ca-61fd21a78c78",
        "colab": {
          "base_uri": "https://localhost:8080/",
          "height": 1000
        }
      },
      "source": [
        "titanic_data.hist(figsize=(15,15))"
      ],
      "execution_count": 6,
      "outputs": [
        {
          "output_type": "execute_result",
          "data": {
            "text/plain": [
              "array([[<matplotlib.axes._subplots.AxesSubplot object at 0x7f5d88999438>,\n",
              "        <matplotlib.axes._subplots.AxesSubplot object at 0x7f5d889cc6d8>,\n",
              "        <matplotlib.axes._subplots.AxesSubplot object at 0x7f5d88982940>],\n",
              "       [<matplotlib.axes._subplots.AxesSubplot object at 0x7f5d88936ba8>,\n",
              "        <matplotlib.axes._subplots.AxesSubplot object at 0x7f5d888eae10>,\n",
              "        <matplotlib.axes._subplots.AxesSubplot object at 0x7f5d888aa0b8>],\n",
              "       [<matplotlib.axes._subplots.AxesSubplot object at 0x7f5d8885d320>,\n",
              "        <matplotlib.axes._subplots.AxesSubplot object at 0x7f5d88893550>,\n",
              "        <matplotlib.axes._subplots.AxesSubplot object at 0x7f5d888935c0>]],\n",
              "      dtype=object)"
            ]
          },
          "metadata": {
            "tags": []
          },
          "execution_count": 6
        },
        {
          "output_type": "display_data",
          "data": {
            "image/png": "[encoded data removed]",
            "text/plain": [
              "<Figure size 1080x1080 with 9 Axes>"
            ]
          },
          "metadata": {
            "tags": [],
            "needs_background": "light"
          }
        }
      ]
    },
    {
      "cell_type": "code",
      "metadata": {
        "id": "y1lYl8b7Naiz",
        "colab_type": "code",
        "colab": {}
      },
      "source": [
        ""
      ],
      "execution_count": 0,
      "outputs": []
    },
    {
      "cell_type": "code",
      "metadata": {
        "id": "M6CGvBP9N21n",
        "colab_type": "code",
        "outputId": "04d81808-1a9c-4966-9098-7cb7897d3185",
        "colab": {
          "base_uri": "https://localhost:8080/",
          "height": 299
        }
      },
      "source": [
        "scatter_matrix(titanic_data)\n",
        "plt.show()"
      ],
      "execution_count": 7,
      "outputs": [
        {
          "output_type": "display_data",
          "data": {
            "image/png": "[encoded data removed]",
            "text/plain": [
              "<Figure size 432x288 with 49 Axes>"
            ]
          },
          "metadata": {
            "tags": [],
            "needs_background": "light"
          }
        }
      ]
    },
    {
      "cell_type": "code",
      "metadata": {
        "id": "L7fR11fMP4kF",
        "colab_type": "code",
        "colab": {}
      },
      "source": [
        ""
      ],
      "execution_count": 0,
      "outputs": []
    },
    {
      "cell_type": "code",
      "metadata": {
        "id": "qoQtuwvxz5oM",
        "colab_type": "code",
        "colab": {}
      },
      "source": [
        "# Removed Embarked NaN rows\n",
        "titanic_data.dropna(axis=0, subset=['Embarked'],inplace=True)"
      ],
      "execution_count": 0,
      "outputs": []
    },
    {
      "cell_type": "code",
      "metadata": {
        "id": "pAFg-rScJ_Na",
        "colab_type": "code",
        "colab": {}
      },
      "source": [
        "# Removed Cabin column\n",
        "titanic_data.drop(['Cabin','Name','Ticket'],axis=1,inplace=True)"
      ],
      "execution_count": 0,
      "outputs": []
    },
    {
      "cell_type": "code",
      "metadata": {
        "id": "291qdG-Y0aI7",
        "colab_type": "code",
        "colab": {}
      },
      "source": [
        "\n"
      ],
      "execution_count": 0,
      "outputs": []
    },
    {
      "cell_type": "code",
      "metadata": {
        "id": "YFCJhIYV1N3V",
        "colab_type": "code",
        "colab": {
          "base_uri": "https://localhost:8080/",
          "height": 419
        },
        "outputId": "0f350ca1-089e-49e9-ea54-8f25bc620da2"
      },
      "source": [
        "titanic_data"
      ],
      "execution_count": 10,
      "outputs": [
        {
          "output_type": "execute_result",
          "data": {
            "text/html": [
              "<div>\n",
              "<style scoped>\n",
              "    .dataframe tbody tr th:only-of-type {\n",
              "        vertical-align: middle;\n",
              "    }\n",
              "\n",
              "    .dataframe tbody tr th {\n",
              "        vertical-align: top;\n",
              "    }\n",
              "\n",
              "    .dataframe thead th {\n",
              "        text-align: right;\n",
              "    }\n",
              "</style>\n",
              "<table border=\"1\" class=\"dataframe\">\n",
              "  <thead>\n",
              "    <tr style=\"text-align: right;\">\n",
              "      <th></th>\n",
              "      <th>PassengerId</th>\n",
              "      <th>Survived</th>\n",
              "      <th>Pclass</th>\n",
              "      <th>Sex</th>\n",
              "      <th>Age</th>\n",
              "      <th>SibSp</th>\n",
              "      <th>Parch</th>\n",
              "      <th>Fare</th>\n",
              "      <th>Embarked</th>\n",
              "    </tr>\n",
              "  </thead>\n",
              "  <tbody>\n",
              "    <tr>\n",
              "      <th>0</th>\n",
              "      <td>1</td>\n",
              "      <td>0</td>\n",
              "      <td>3</td>\n",
              "      <td>male</td>\n",
              "      <td>22.0</td>\n",
              "      <td>1</td>\n",
              "      <td>0</td>\n",
              "      <td>7.2500</td>\n",
              "      <td>S</td>\n",
              "    </tr>\n",
              "    <tr>\n",
              "      <th>1</th>\n",
              "      <td>2</td>\n",
              "      <td>1</td>\n",
              "      <td>1</td>\n",
              "      <td>female</td>\n",
              "      <td>38.0</td>\n",
              "      <td>1</td>\n",
              "      <td>0</td>\n",
              "      <td>71.2833</td>\n",
              "      <td>C</td>\n",
              "    </tr>\n",
              "    <tr>\n",
              "      <th>2</th>\n",
              "      <td>3</td>\n",
              "      <td>1</td>\n",
              "      <td>3</td>\n",
              "      <td>female</td>\n",
              "      <td>26.0</td>\n",
              "      <td>0</td>\n",
              "      <td>0</td>\n",
              "      <td>7.9250</td>\n",
              "      <td>S</td>\n",
              "    </tr>\n",
              "    <tr>\n",
              "      <th>3</th>\n",
              "      <td>4</td>\n",
              "      <td>1</td>\n",
              "      <td>1</td>\n",
              "      <td>female</td>\n",
              "      <td>35.0</td>\n",
              "      <td>1</td>\n",
              "      <td>0</td>\n",
              "      <td>53.1000</td>\n",
              "      <td>S</td>\n",
              "    </tr>\n",
              "    <tr>\n",
              "      <th>4</th>\n",
              "      <td>5</td>\n",
              "      <td>0</td>\n",
              "      <td>3</td>\n",
              "      <td>male</td>\n",
              "      <td>35.0</td>\n",
              "      <td>0</td>\n",
              "      <td>0</td>\n",
              "      <td>8.0500</td>\n",
              "      <td>S</td>\n",
              "    </tr>\n",
              "    <tr>\n",
              "      <th>...</th>\n",
              "      <td>...</td>\n",
              "      <td>...</td>\n",
              "      <td>...</td>\n",
              "      <td>...</td>\n",
              "      <td>...</td>\n",
              "      <td>...</td>\n",
              "      <td>...</td>\n",
              "      <td>...</td>\n",
              "      <td>...</td>\n",
              "    </tr>\n",
              "    <tr>\n",
              "      <th>886</th>\n",
              "      <td>887</td>\n",
              "      <td>0</td>\n",
              "      <td>2</td>\n",
              "      <td>male</td>\n",
              "      <td>27.0</td>\n",
              "      <td>0</td>\n",
              "      <td>0</td>\n",
              "      <td>13.0000</td>\n",
              "      <td>S</td>\n",
              "    </tr>\n",
              "    <tr>\n",
              "      <th>887</th>\n",
              "      <td>888</td>\n",
              "      <td>1</td>\n",
              "      <td>1</td>\n",
              "      <td>female</td>\n",
              "      <td>19.0</td>\n",
              "      <td>0</td>\n",
              "      <td>0</td>\n",
              "      <td>30.0000</td>\n",
              "      <td>S</td>\n",
              "    </tr>\n",
              "    <tr>\n",
              "      <th>888</th>\n",
              "      <td>889</td>\n",
              "      <td>0</td>\n",
              "      <td>3</td>\n",
              "      <td>female</td>\n",
              "      <td>NaN</td>\n",
              "      <td>1</td>\n",
              "      <td>2</td>\n",
              "      <td>23.4500</td>\n",
              "      <td>S</td>\n",
              "    </tr>\n",
              "    <tr>\n",
              "      <th>889</th>\n",
              "      <td>890</td>\n",
              "      <td>1</td>\n",
              "      <td>1</td>\n",
              "      <td>male</td>\n",
              "      <td>26.0</td>\n",
              "      <td>0</td>\n",
              "      <td>0</td>\n",
              "      <td>30.0000</td>\n",
              "      <td>C</td>\n",
              "    </tr>\n",
              "    <tr>\n",
              "      <th>890</th>\n",
              "      <td>891</td>\n",
              "      <td>0</td>\n",
              "      <td>3</td>\n",
              "      <td>male</td>\n",
              "      <td>32.0</td>\n",
              "      <td>0</td>\n",
              "      <td>0</td>\n",
              "      <td>7.7500</td>\n",
              "      <td>Q</td>\n",
              "    </tr>\n",
              "  </tbody>\n",
              "</table>\n",
              "<p>889 rows × 9 columns</p>\n",
              "</div>"
            ],
            "text/plain": [
              "     PassengerId  Survived  Pclass     Sex  ...  SibSp  Parch     Fare  Embarked\n",
              "0              1         0       3    male  ...      1      0   7.2500         S\n",
              "1              2         1       1  female  ...      1      0  71.2833         C\n",
              "2              3         1       3  female  ...      0      0   7.9250         S\n",
              "3              4         1       1  female  ...      1      0  53.1000         S\n",
              "4              5         0       3    male  ...      0      0   8.0500         S\n",
              "..           ...       ...     ...     ...  ...    ...    ...      ...       ...\n",
              "886          887         0       2    male  ...      0      0  13.0000         S\n",
              "887          888         1       1  female  ...      0      0  30.0000         S\n",
              "888          889         0       3  female  ...      1      2  23.4500         S\n",
              "889          890         1       1    male  ...      0      0  30.0000         C\n",
              "890          891         0       3    male  ...      0      0   7.7500         Q\n",
              "\n",
              "[889 rows x 9 columns]"
            ]
          },
          "metadata": {
            "tags": []
          },
          "execution_count": 10
        }
      ]
    },
    {
      "cell_type": "code",
      "metadata": {
        "id": "psApZeEF0xCl",
        "colab_type": "code",
        "colab": {
          "base_uri": "https://localhost:8080/",
          "height": 296
        },
        "outputId": "b7c4c5fd-4674-408d-e7c0-a444e6df7f3b"
      },
      "source": [
        "sns.countplot(x='Survived',data=titanic_data)"
      ],
      "execution_count": 11,
      "outputs": [
        {
          "output_type": "execute_result",
          "data": {
            "text/plain": [
              "<matplotlib.axes._subplots.AxesSubplot at 0x7f5d885ae0f0>"
            ]
          },
          "metadata": {
            "tags": []
          },
          "execution_count": 11
        },
        {
          "output_type": "display_data",
          "data": {
            "image/png": "[encoded data removed]",
            "text/plain": [
              "<Figure size 432x288 with 1 Axes>"
            ]
          },
          "metadata": {
            "tags": [],
            "needs_background": "light"
          }
        }
      ]
    },
    {
      "cell_type": "code",
      "metadata": {
        "id": "ZogoXDP5z5n1",
        "colab_type": "code",
        "colab": {}
      },
      "source": [
        "#filling na val of age with mean\n",
        "#titanic_data['Age'].fillna((titanic_data['Age'].mean()), inplace=True)"
      ],
      "execution_count": 0,
      "outputs": []
    },
    {
      "cell_type": "code",
      "metadata": {
        "id": "b0IaFqSSMOlZ",
        "colab_type": "code",
        "colab": {
          "base_uri": "https://localhost:8080/",
          "height": 187
        },
        "outputId": "ef41a2ed-3219-424a-937e-daf05b8c2dc6"
      },
      "source": [
        "print(titanic_data.isna().sum())"
      ],
      "execution_count": 13,
      "outputs": [
        {
          "output_type": "stream",
          "text": [
            "PassengerId      0\n",
            "Survived         0\n",
            "Pclass           0\n",
            "Sex              0\n",
            "Age            177\n",
            "SibSp            0\n",
            "Parch            0\n",
            "Fare             0\n",
            "Embarked         0\n",
            "dtype: int64\n"
          ],
          "name": "stdout"
        }
      ]
    },
    {
      "cell_type": "code",
      "metadata": {
        "id": "9PXi6Xl6QAR7",
        "colab_type": "code",
        "colab": {}
      },
      "source": [
        ""
      ],
      "execution_count": 0,
      "outputs": []
    },
    {
      "cell_type": "code",
      "metadata": {
        "id": "S7a7YIQfMZY0",
        "colab_type": "code",
        "outputId": "ba6e102c-3469-4c16-f40b-3d0795c62920",
        "colab": {
          "base_uri": "https://localhost:8080/",
          "height": 296
        }
      },
      "source": [
        "plt.scatter(titanic_data['Age'], titanic_data.Survived)\n",
        "plt.xlabel('Age')\n",
        "plt.ylabel('Survived')"
      ],
      "execution_count": 14,
      "outputs": [
        {
          "output_type": "execute_result",
          "data": {
            "text/plain": [
              "Text(0, 0.5, 'Survived')"
            ]
          },
          "metadata": {
            "tags": []
          },
          "execution_count": 14
        },
        {
          "output_type": "display_data",
          "data": {
            "image/png": "[encoded data removed]",
            "text/plain": [
              "<Figure size 432x288 with 1 Axes>"
            ]
          },
          "metadata": {
            "tags": [],
            "needs_background": "light"
          }
        }
      ]
    },
    {
      "cell_type": "code",
      "metadata": {
        "id": "WNXKli8NQNrs",
        "colab_type": "code",
        "colab": {
          "base_uri": "https://localhost:8080/",
          "height": 296
        },
        "outputId": "1165c9f2-a722-4589-8c0e-e8fbcbb8c384"
      },
      "source": [
        "sns.countplot(x='Survived',hue='Sex',data=titanic_data,palette='RdBu_r')"
      ],
      "execution_count": 15,
      "outputs": [
        {
          "output_type": "execute_result",
          "data": {
            "text/plain": [
              "<matplotlib.axes._subplots.AxesSubplot at 0x7f5d877e9320>"
            ]
          },
          "metadata": {
            "tags": []
          },
          "execution_count": 15
        },
        {
          "output_type": "display_data",
          "data": {
            "image/png": "[encoded data removed]",
            "text/plain": [
              "<Figure size 432x288 with 1 Axes>"
            ]
          },
          "metadata": {
            "tags": [],
            "needs_background": "light"
          }
        }
      ]
    },
    {
      "cell_type": "code",
      "metadata": {
        "id": "WZw-nWFATAKk",
        "colab_type": "code",
        "colab": {
          "base_uri": "https://localhost:8080/",
          "height": 296
        },
        "outputId": "0dd31c04-7449-4f64-da69-6f2f29b65b88"
      },
      "source": [
        "sns.countplot(x='Survived',hue='Pclass',data=titanic_data,palette='rainbow')"
      ],
      "execution_count": 16,
      "outputs": [
        {
          "output_type": "execute_result",
          "data": {
            "text/plain": [
              "<matplotlib.axes._subplots.AxesSubplot at 0x7f5d885bd390>"
            ]
          },
          "metadata": {
            "tags": []
          },
          "execution_count": 16
        },
        {
          "output_type": "display_data",
          "data": {
            "image/png": "[encoded data removed]",
            "text/plain": [
              "<Figure size 432x288 with 1 Axes>"
            ]
          },
          "metadata": {
            "tags": [],
            "needs_background": "light"
          }
        }
      ]
    },
    {
      "cell_type": "code",
      "metadata": {
        "id": "5JrmhJ1mTGSI",
        "colab_type": "code",
        "colab": {
          "base_uri": "https://localhost:8080/",
          "height": 282
        },
        "outputId": "2ae2111f-5419-473b-f8eb-a9ff1a810409"
      },
      "source": [
        "titanic_data['Age'].hist(bins=30,color='darkred',alpha=0.3)"
      ],
      "execution_count": 17,
      "outputs": [
        {
          "output_type": "execute_result",
          "data": {
            "text/plain": [
              "<matplotlib.axes._subplots.AxesSubplot at 0x7f5d8895b748>"
            ]
          },
          "metadata": {
            "tags": []
          },
          "execution_count": 17
        },
        {
          "output_type": "display_data",
          "data": {
            "image/png": "[encoded data removed]",
            "text/plain": [
              "<Figure size 432x288 with 1 Axes>"
            ]
          },
          "metadata": {
            "tags": [],
            "needs_background": "light"
          }
        }
      ]
    },
    {
      "cell_type": "code",
      "metadata": {
        "id": "3Qlw56w1TTiD",
        "colab_type": "code",
        "colab": {
          "base_uri": "https://localhost:8080/",
          "height": 296
        },
        "outputId": "27d6e4ab-99cc-40a9-eda2-bfd5ac9e1157"
      },
      "source": [
        "sns.countplot(x='SibSp',data=titanic_data)\n"
      ],
      "execution_count": 18,
      "outputs": [
        {
          "output_type": "execute_result",
          "data": {
            "text/plain": [
              "<matplotlib.axes._subplots.AxesSubplot at 0x7f5d87a67f60>"
            ]
          },
          "metadata": {
            "tags": []
          },
          "execution_count": 18
        },
        {
          "output_type": "display_data",
          "data": {
            "image/png": "[encoded data removed]",
            "text/plain": [
              "<Figure size 432x288 with 1 Axes>"
            ]
          },
          "metadata": {
            "tags": [],
            "needs_background": "light"
          }
        }
      ]
    },
    {
      "cell_type": "code",
      "metadata": {
        "id": "00YSFSfyTZLB",
        "colab_type": "code",
        "colab": {
          "base_uri": "https://localhost:8080/",
          "height": 459
        },
        "outputId": "fd96f7bd-9b18-43b3-f7c1-4715ee62f41b"
      },
      "source": [
        "plt.figure(figsize=(12, 7))\n",
        "sns.boxplot(x='Pclass',y='Age',data=titanic_data,palette='winter')"
      ],
      "execution_count": 19,
      "outputs": [
        {
          "output_type": "execute_result",
          "data": {
            "text/plain": [
              "<matplotlib.axes._subplots.AxesSubplot at 0x7f5d885c6e48>"
            ]
          },
          "metadata": {
            "tags": []
          },
          "execution_count": 19
        },
        {
          "output_type": "display_data",
          "data": {
            "image/png": "[encoded data removed]",
            "text/plain": [
              "<Figure size 864x504 with 1 Axes>"
            ]
          },
          "metadata": {
            "tags": [],
            "needs_background": "light"
          }
        }
      ]
    },
    {
      "cell_type": "code",
      "metadata": {
        "id": "ZrdQlGIJTras",
        "colab_type": "code",
        "colab": {}
      },
      "source": [
        "def fill_age_na_val(cols):\n",
        "    Age = cols[0]\n",
        "    Pclass = cols[1]\n",
        "    \n",
        "    if pd.isnull(Age):\n",
        "        if Pclass == 1:\n",
        "            return 37\n",
        "        elif Pclass == 2:\n",
        "            return 29\n",
        "        else:\n",
        "            return 24\n",
        "    else:\n",
        "        return Age"
      ],
      "execution_count": 0,
      "outputs": []
    },
    {
      "cell_type": "code",
      "metadata": {
        "id": "7zzA_GlZxjln",
        "colab_type": "code",
        "colab": {}
      },
      "source": [
        "titanic_data['Age'] = titanic_data[['Age','Pclass']].apply(fill_age_na_val,axis=1)"
      ],
      "execution_count": 0,
      "outputs": []
    },
    {
      "cell_type": "code",
      "metadata": {
        "id": "cnuURGi6yOAz",
        "colab_type": "code",
        "colab": {
          "base_uri": "https://localhost:8080/",
          "height": 333
        },
        "outputId": "45903710-67f8-462c-e04c-fad164f3b904"
      },
      "source": [
        "sns.heatmap(titanic_data.isnull(),yticklabels=False,cbar=False,cmap='viridis')"
      ],
      "execution_count": 22,
      "outputs": [
        {
          "output_type": "execute_result",
          "data": {
            "text/plain": [
              "<matplotlib.axes._subplots.AxesSubplot at 0x7f5d87888d30>"
            ]
          },
          "metadata": {
            "tags": []
          },
          "execution_count": 22
        },
        {
          "output_type": "display_data",
          "data": {
            "image/png": "[encoded data removed]",
            "text/plain": [
              "<Figure size 432x288 with 1 Axes>"
            ]
          },
          "metadata": {
            "tags": [],
            "needs_background": "light"
          }
        }
      ]
    },
    {
      "cell_type": "code",
      "metadata": {
        "id": "SgPM7EG3yRKk",
        "colab_type": "code",
        "colab": {}
      },
      "source": [
        ""
      ],
      "execution_count": 0,
      "outputs": []
    },
    {
      "cell_type": "code",
      "metadata": {
        "id": "bIbEyECpz7zp",
        "colab_type": "code",
        "colab": {}
      },
      "source": [
        ""
      ],
      "execution_count": 0,
      "outputs": []
    },
    {
      "cell_type": "code",
      "metadata": {
        "id": "ukDSJ0SozDy8",
        "colab_type": "code",
        "colab": {}
      },
      "source": [
        ""
      ],
      "execution_count": 0,
      "outputs": []
    },
    {
      "cell_type": "code",
      "metadata": {
        "id": "-RayO0Hq0ItA",
        "colab_type": "code",
        "colab": {
          "base_uri": "https://localhost:8080/",
          "height": 68
        },
        "outputId": "545ad5d5-eca0-4d1b-9700-49d87593c9cb"
      },
      "source": [
        "titanic_data.columns"
      ],
      "execution_count": 23,
      "outputs": [
        {
          "output_type": "execute_result",
          "data": {
            "text/plain": [
              "Index(['PassengerId', 'Survived', 'Pclass', 'Sex', 'Age', 'SibSp', 'Parch',\n",
              "       'Fare', 'Embarked'],\n",
              "      dtype='object')"
            ]
          },
          "metadata": {
            "tags": []
          },
          "execution_count": 23
        }
      ]
    },
    {
      "cell_type": "code",
      "metadata": {
        "id": "vCtHg_vozy8x",
        "colab_type": "code",
        "colab": {
          "base_uri": "https://localhost:8080/",
          "height": 204
        },
        "outputId": "a197bf2a-037d-460f-b71e-768f879fef4b"
      },
      "source": [
        "titanic_data = titanic_data[['PassengerId', 'Pclass', 'Sex', 'Age', 'SibSp', 'Parch', 'Fare', 'Embarked', 'Survived']]\n",
        "titanic_data.head()"
      ],
      "execution_count": 24,
      "outputs": [
        {
          "output_type": "execute_result",
          "data": {
            "text/html": [
              "<div>\n",
              "<style scoped>\n",
              "    .dataframe tbody tr th:only-of-type {\n",
              "        vertical-align: middle;\n",
              "    }\n",
              "\n",
              "    .dataframe tbody tr th {\n",
              "        vertical-align: top;\n",
              "    }\n",
              "\n",
              "    .dataframe thead th {\n",
              "        text-align: right;\n",
              "    }\n",
              "</style>\n",
              "<table border=\"1\" class=\"dataframe\">\n",
              "  <thead>\n",
              "    <tr style=\"text-align: right;\">\n",
              "      <th></th>\n",
              "      <th>PassengerId</th>\n",
              "      <th>Pclass</th>\n",
              "      <th>Sex</th>\n",
              "      <th>Age</th>\n",
              "      <th>SibSp</th>\n",
              "      <th>Parch</th>\n",
              "      <th>Fare</th>\n",
              "      <th>Embarked</th>\n",
              "      <th>Survived</th>\n",
              "    </tr>\n",
              "  </thead>\n",
              "  <tbody>\n",
              "    <tr>\n",
              "      <th>0</th>\n",
              "      <td>1</td>\n",
              "      <td>3</td>\n",
              "      <td>male</td>\n",
              "      <td>22.0</td>\n",
              "      <td>1</td>\n",
              "      <td>0</td>\n",
              "      <td>7.2500</td>\n",
              "      <td>S</td>\n",
              "      <td>0</td>\n",
              "    </tr>\n",
              "    <tr>\n",
              "      <th>1</th>\n",
              "      <td>2</td>\n",
              "      <td>1</td>\n",
              "      <td>female</td>\n",
              "      <td>38.0</td>\n",
              "      <td>1</td>\n",
              "      <td>0</td>\n",
              "      <td>71.2833</td>\n",
              "      <td>C</td>\n",
              "      <td>1</td>\n",
              "    </tr>\n",
              "    <tr>\n",
              "      <th>2</th>\n",
              "      <td>3</td>\n",
              "      <td>3</td>\n",
              "      <td>female</td>\n",
              "      <td>26.0</td>\n",
              "      <td>0</td>\n",
              "      <td>0</td>\n",
              "      <td>7.9250</td>\n",
              "      <td>S</td>\n",
              "      <td>1</td>\n",
              "    </tr>\n",
              "    <tr>\n",
              "      <th>3</th>\n",
              "      <td>4</td>\n",
              "      <td>1</td>\n",
              "      <td>female</td>\n",
              "      <td>35.0</td>\n",
              "      <td>1</td>\n",
              "      <td>0</td>\n",
              "      <td>53.1000</td>\n",
              "      <td>S</td>\n",
              "      <td>1</td>\n",
              "    </tr>\n",
              "    <tr>\n",
              "      <th>4</th>\n",
              "      <td>5</td>\n",
              "      <td>3</td>\n",
              "      <td>male</td>\n",
              "      <td>35.0</td>\n",
              "      <td>0</td>\n",
              "      <td>0</td>\n",
              "      <td>8.0500</td>\n",
              "      <td>S</td>\n",
              "      <td>0</td>\n",
              "    </tr>\n",
              "  </tbody>\n",
              "</table>\n",
              "</div>"
            ],
            "text/plain": [
              "   PassengerId  Pclass     Sex   Age  SibSp  Parch     Fare Embarked  Survived\n",
              "0            1       3    male  22.0      1      0   7.2500        S         0\n",
              "1            2       1  female  38.0      1      0  71.2833        C         1\n",
              "2            3       3  female  26.0      0      0   7.9250        S         1\n",
              "3            4       1  female  35.0      1      0  53.1000        S         1\n",
              "4            5       3    male  35.0      0      0   8.0500        S         0"
            ]
          },
          "metadata": {
            "tags": []
          },
          "execution_count": 24
        }
      ]
    },
    {
      "cell_type": "code",
      "metadata": {
        "id": "TC_GG6s3zEU1",
        "colab_type": "code",
        "colab": {
          "base_uri": "https://localhost:8080/",
          "height": 596
        },
        "outputId": "e38356bd-f292-4951-ff60-69ab93d5cf6f"
      },
      "source": [
        "# Visualizing the correlation matrix\n",
        "plt.figure(figsize=(15,10))\n",
        "mask = np.zeros_like(titanic_data.corr(), dtype=np.bool)\n",
        "mask[np.triu_indices_from(mask)] = True\n",
        "sns.heatmap(titanic_data.corr(), \n",
        "            vmin = -1,\n",
        "            cmap='coolwarm',\n",
        "            annot=True,\n",
        "            )\n",
        "# plt.savefig('corr-matrix.png')\n",
        "plt.show()"
      ],
      "execution_count": 25,
      "outputs": [
        {
          "output_type": "display_data",
          "data": {
            "image/png": "[encoded data removed]",
            "text/plain": [
              "<Figure size 1080x720 with 2 Axes>"
            ]
          },
          "metadata": {
            "tags": [],
            "needs_background": "light"
          }
        }
      ]
    },
    {
      "cell_type": "code",
      "metadata": {
        "id": "WmIw5nCR0w-Z",
        "colab_type": "code",
        "colab": {
          "base_uri": "https://localhost:8080/",
          "height": 289
        },
        "outputId": "a41dc5bc-189f-4f7a-dd49-5882b814f54b"
      },
      "source": [
        "titanic_data.info()"
      ],
      "execution_count": 26,
      "outputs": [
        {
          "output_type": "stream",
          "text": [
            "<class 'pandas.core.frame.DataFrame'>\n",
            "Int64Index: 889 entries, 0 to 890\n",
            "Data columns (total 9 columns):\n",
            " #   Column       Non-Null Count  Dtype  \n",
            "---  ------       --------------  -----  \n",
            " 0   PassengerId  889 non-null    int64  \n",
            " 1   Pclass       889 non-null    int64  \n",
            " 2   Sex          889 non-null    object \n",
            " 3   Age          889 non-null    float64\n",
            " 4   SibSp        889 non-null    int64  \n",
            " 5   Parch        889 non-null    int64  \n",
            " 6   Fare         889 non-null    float64\n",
            " 7   Embarked     889 non-null    object \n",
            " 8   Survived     889 non-null    int64  \n",
            "dtypes: float64(2), int64(5), object(2)\n",
            "memory usage: 109.5+ KB\n"
          ],
          "name": "stdout"
        }
      ]
    },
    {
      "cell_type": "code",
      "metadata": {
        "id": "cR0b5Rkm33Db",
        "colab_type": "code",
        "colab": {}
      },
      "source": [
        ""
      ],
      "execution_count": 0,
      "outputs": []
    },
    {
      "cell_type": "code",
      "metadata": {
        "id": "AxRyPhps0xBj",
        "colab_type": "code",
        "colab": {}
      },
      "source": [
        "titanic_data = pd.get_dummies(titanic_data, columns=['Sex' ,'Embarked'], drop_first=True)"
      ],
      "execution_count": 0,
      "outputs": []
    },
    {
      "cell_type": "code",
      "metadata": {
        "id": "VapkTssX0xHX",
        "colab_type": "code",
        "colab": {
          "base_uri": "https://localhost:8080/",
          "height": 204
        },
        "outputId": "2d123ca3-07ef-45a4-a7d3-05368004eedf"
      },
      "source": [
        "titanic_data.head()"
      ],
      "execution_count": 28,
      "outputs": [
        {
          "output_type": "execute_result",
          "data": {
            "text/html": [
              "<div>\n",
              "<style scoped>\n",
              "    .dataframe tbody tr th:only-of-type {\n",
              "        vertical-align: middle;\n",
              "    }\n",
              "\n",
              "    .dataframe tbody tr th {\n",
              "        vertical-align: top;\n",
              "    }\n",
              "\n",
              "    .dataframe thead th {\n",
              "        text-align: right;\n",
              "    }\n",
              "</style>\n",
              "<table border=\"1\" class=\"dataframe\">\n",
              "  <thead>\n",
              "    <tr style=\"text-align: right;\">\n",
              "      <th></th>\n",
              "      <th>PassengerId</th>\n",
              "      <th>Pclass</th>\n",
              "      <th>Age</th>\n",
              "      <th>SibSp</th>\n",
              "      <th>Parch</th>\n",
              "      <th>Fare</th>\n",
              "      <th>Survived</th>\n",
              "      <th>Sex_male</th>\n",
              "      <th>Embarked_Q</th>\n",
              "      <th>Embarked_S</th>\n",
              "    </tr>\n",
              "  </thead>\n",
              "  <tbody>\n",
              "    <tr>\n",
              "      <th>0</th>\n",
              "      <td>1</td>\n",
              "      <td>3</td>\n",
              "      <td>22.0</td>\n",
              "      <td>1</td>\n",
              "      <td>0</td>\n",
              "      <td>7.2500</td>\n",
              "      <td>0</td>\n",
              "      <td>1</td>\n",
              "      <td>0</td>\n",
              "      <td>1</td>\n",
              "    </tr>\n",
              "    <tr>\n",
              "      <th>1</th>\n",
              "      <td>2</td>\n",
              "      <td>1</td>\n",
              "      <td>38.0</td>\n",
              "      <td>1</td>\n",
              "      <td>0</td>\n",
              "      <td>71.2833</td>\n",
              "      <td>1</td>\n",
              "      <td>0</td>\n",
              "      <td>0</td>\n",
              "      <td>0</td>\n",
              "    </tr>\n",
              "    <tr>\n",
              "      <th>2</th>\n",
              "      <td>3</td>\n",
              "      <td>3</td>\n",
              "      <td>26.0</td>\n",
              "      <td>0</td>\n",
              "      <td>0</td>\n",
              "      <td>7.9250</td>\n",
              "      <td>1</td>\n",
              "      <td>0</td>\n",
              "      <td>0</td>\n",
              "      <td>1</td>\n",
              "    </tr>\n",
              "    <tr>\n",
              "      <th>3</th>\n",
              "      <td>4</td>\n",
              "      <td>1</td>\n",
              "      <td>35.0</td>\n",
              "      <td>1</td>\n",
              "      <td>0</td>\n",
              "      <td>53.1000</td>\n",
              "      <td>1</td>\n",
              "      <td>0</td>\n",
              "      <td>0</td>\n",
              "      <td>1</td>\n",
              "    </tr>\n",
              "    <tr>\n",
              "      <th>4</th>\n",
              "      <td>5</td>\n",
              "      <td>3</td>\n",
              "      <td>35.0</td>\n",
              "      <td>0</td>\n",
              "      <td>0</td>\n",
              "      <td>8.0500</td>\n",
              "      <td>0</td>\n",
              "      <td>1</td>\n",
              "      <td>0</td>\n",
              "      <td>1</td>\n",
              "    </tr>\n",
              "  </tbody>\n",
              "</table>\n",
              "</div>"
            ],
            "text/plain": [
              "   PassengerId  Pclass   Age  SibSp  ...  Survived  Sex_male  Embarked_Q  Embarked_S\n",
              "0            1       3  22.0      1  ...         0         1           0           1\n",
              "1            2       1  38.0      1  ...         1         0           0           0\n",
              "2            3       3  26.0      0  ...         1         0           0           1\n",
              "3            4       1  35.0      1  ...         1         0           0           1\n",
              "4            5       3  35.0      0  ...         0         1           0           1\n",
              "\n",
              "[5 rows x 10 columns]"
            ]
          },
          "metadata": {
            "tags": []
          },
          "execution_count": 28
        }
      ]
    },
    {
      "cell_type": "code",
      "metadata": {
        "id": "Grou01vL0xEv",
        "colab_type": "code",
        "colab": {
          "base_uri": "https://localhost:8080/",
          "height": 204
        },
        "outputId": "45ae3220-b2c2-4cf4-af47-c4a09b98b85b"
      },
      "source": [
        "titanic_data.dtypes"
      ],
      "execution_count": 29,
      "outputs": [
        {
          "output_type": "execute_result",
          "data": {
            "text/plain": [
              "PassengerId      int64\n",
              "Pclass           int64\n",
              "Age            float64\n",
              "SibSp            int64\n",
              "Parch            int64\n",
              "Fare           float64\n",
              "Survived         int64\n",
              "Sex_male         uint8\n",
              "Embarked_Q       uint8\n",
              "Embarked_S       uint8\n",
              "dtype: object"
            ]
          },
          "metadata": {
            "tags": []
          },
          "execution_count": 29
        }
      ]
    },
    {
      "cell_type": "code",
      "metadata": {
        "id": "RCeil4AX4BO_",
        "colab_type": "code",
        "colab": {
          "base_uri": "https://localhost:8080/",
          "height": 297
        },
        "outputId": "1f794635-7cb3-4ed4-e6f1-1e0b7850a090"
      },
      "source": [
        "titanic_data.describe()"
      ],
      "execution_count": 30,
      "outputs": [
        {
          "output_type": "execute_result",
          "data": {
            "text/html": [
              "<div>\n",
              "<style scoped>\n",
              "    .dataframe tbody tr th:only-of-type {\n",
              "        vertical-align: middle;\n",
              "    }\n",
              "\n",
              "    .dataframe tbody tr th {\n",
              "        vertical-align: top;\n",
              "    }\n",
              "\n",
              "    .dataframe thead th {\n",
              "        text-align: right;\n",
              "    }\n",
              "</style>\n",
              "<table border=\"1\" class=\"dataframe\">\n",
              "  <thead>\n",
              "    <tr style=\"text-align: right;\">\n",
              "      <th></th>\n",
              "      <th>PassengerId</th>\n",
              "      <th>Pclass</th>\n",
              "      <th>Age</th>\n",
              "      <th>SibSp</th>\n",
              "      <th>Parch</th>\n",
              "      <th>Fare</th>\n",
              "      <th>Survived</th>\n",
              "      <th>Sex_male</th>\n",
              "      <th>Embarked_Q</th>\n",
              "      <th>Embarked_S</th>\n",
              "    </tr>\n",
              "  </thead>\n",
              "  <tbody>\n",
              "    <tr>\n",
              "      <th>count</th>\n",
              "      <td>889.000000</td>\n",
              "      <td>889.000000</td>\n",
              "      <td>889.000000</td>\n",
              "      <td>889.000000</td>\n",
              "      <td>889.000000</td>\n",
              "      <td>889.000000</td>\n",
              "      <td>889.000000</td>\n",
              "      <td>889.000000</td>\n",
              "      <td>889.000000</td>\n",
              "      <td>889.000000</td>\n",
              "    </tr>\n",
              "    <tr>\n",
              "      <th>mean</th>\n",
              "      <td>446.000000</td>\n",
              "      <td>2.311586</td>\n",
              "      <td>29.019314</td>\n",
              "      <td>0.524184</td>\n",
              "      <td>0.382452</td>\n",
              "      <td>32.096681</td>\n",
              "      <td>0.382452</td>\n",
              "      <td>0.649044</td>\n",
              "      <td>0.086614</td>\n",
              "      <td>0.724409</td>\n",
              "    </tr>\n",
              "    <tr>\n",
              "      <th>std</th>\n",
              "      <td>256.998173</td>\n",
              "      <td>0.834700</td>\n",
              "      <td>13.209814</td>\n",
              "      <td>1.103705</td>\n",
              "      <td>0.806761</td>\n",
              "      <td>49.697504</td>\n",
              "      <td>0.486260</td>\n",
              "      <td>0.477538</td>\n",
              "      <td>0.281427</td>\n",
              "      <td>0.447063</td>\n",
              "    </tr>\n",
              "    <tr>\n",
              "      <th>min</th>\n",
              "      <td>1.000000</td>\n",
              "      <td>1.000000</td>\n",
              "      <td>0.420000</td>\n",
              "      <td>0.000000</td>\n",
              "      <td>0.000000</td>\n",
              "      <td>0.000000</td>\n",
              "      <td>0.000000</td>\n",
              "      <td>0.000000</td>\n",
              "      <td>0.000000</td>\n",
              "      <td>0.000000</td>\n",
              "    </tr>\n",
              "    <tr>\n",
              "      <th>25%</th>\n",
              "      <td>224.000000</td>\n",
              "      <td>2.000000</td>\n",
              "      <td>22.000000</td>\n",
              "      <td>0.000000</td>\n",
              "      <td>0.000000</td>\n",
              "      <td>7.895800</td>\n",
              "      <td>0.000000</td>\n",
              "      <td>0.000000</td>\n",
              "      <td>0.000000</td>\n",
              "      <td>0.000000</td>\n",
              "    </tr>\n",
              "    <tr>\n",
              "      <th>50%</th>\n",
              "      <td>446.000000</td>\n",
              "      <td>3.000000</td>\n",
              "      <td>26.000000</td>\n",
              "      <td>0.000000</td>\n",
              "      <td>0.000000</td>\n",
              "      <td>14.454200</td>\n",
              "      <td>0.000000</td>\n",
              "      <td>1.000000</td>\n",
              "      <td>0.000000</td>\n",
              "      <td>1.000000</td>\n",
              "    </tr>\n",
              "    <tr>\n",
              "      <th>75%</th>\n",
              "      <td>668.000000</td>\n",
              "      <td>3.000000</td>\n",
              "      <td>36.500000</td>\n",
              "      <td>1.000000</td>\n",
              "      <td>0.000000</td>\n",
              "      <td>31.000000</td>\n",
              "      <td>1.000000</td>\n",
              "      <td>1.000000</td>\n",
              "      <td>0.000000</td>\n",
              "      <td>1.000000</td>\n",
              "    </tr>\n",
              "    <tr>\n",
              "      <th>max</th>\n",
              "      <td>891.000000</td>\n",
              "      <td>3.000000</td>\n",
              "      <td>80.000000</td>\n",
              "      <td>8.000000</td>\n",
              "      <td>6.000000</td>\n",
              "      <td>512.329200</td>\n",
              "      <td>1.000000</td>\n",
              "      <td>1.000000</td>\n",
              "      <td>1.000000</td>\n",
              "      <td>1.000000</td>\n",
              "    </tr>\n",
              "  </tbody>\n",
              "</table>\n",
              "</div>"
            ],
            "text/plain": [
              "       PassengerId      Pclass         Age  ...    Sex_male  Embarked_Q  Embarked_S\n",
              "count   889.000000  889.000000  889.000000  ...  889.000000  889.000000  889.000000\n",
              "mean    446.000000    2.311586   29.019314  ...    0.649044    0.086614    0.724409\n",
              "std     256.998173    0.834700   13.209814  ...    0.477538    0.281427    0.447063\n",
              "min       1.000000    1.000000    0.420000  ...    0.000000    0.000000    0.000000\n",
              "25%     224.000000    2.000000   22.000000  ...    0.000000    0.000000    0.000000\n",
              "50%     446.000000    3.000000   26.000000  ...    1.000000    0.000000    1.000000\n",
              "75%     668.000000    3.000000   36.500000  ...    1.000000    0.000000    1.000000\n",
              "max     891.000000    3.000000   80.000000  ...    1.000000    1.000000    1.000000\n",
              "\n",
              "[8 rows x 10 columns]"
            ]
          },
          "metadata": {
            "tags": []
          },
          "execution_count": 30
        }
      ]
    },
    {
      "cell_type": "code",
      "metadata": {
        "id": "vInaXCIMzQWe",
        "colab_type": "code",
        "colab": {}
      },
      "source": [
        "X = titanic_data.drop(['Survived'], axis = 1)\n",
        "y = titanic_data['Survived']"
      ],
      "execution_count": 0,
      "outputs": []
    },
    {
      "cell_type": "code",
      "metadata": {
        "id": "Wwxx5d8-0OGE",
        "colab_type": "code",
        "colab": {
          "base_uri": "https://localhost:8080/",
          "height": 279
        },
        "outputId": "24571f69-2315-4b59-911b-a9dbdcda8585"
      },
      "source": [
        "sns.countplot(y, palette='Set1')\n",
        "plt.show()"
      ],
      "execution_count": 32,
      "outputs": [
        {
          "output_type": "display_data",
          "data": {
            "image/png": "[encoded data removed]",
            "text/plain": [
              "<Figure size 432x288 with 1 Axes>"
            ]
          },
          "metadata": {
            "tags": [],
            "needs_background": "light"
          }
        }
      ]
    },
    {
      "cell_type": "code",
      "metadata": {
        "id": "qFylDTRp2wF_",
        "colab_type": "code",
        "colab": {}
      },
      "source": [
        ""
      ],
      "execution_count": 0,
      "outputs": []
    },
    {
      "cell_type": "code",
      "metadata": {
        "id": "0hBAwDIr0o85",
        "colab_type": "code",
        "colab": {}
      },
      "source": [
        "from sklearn.model_selection import train_test_split\n",
        "from xgboost import XGBClassifier\n",
        "import xgboost as xgb\n",
        "from sklearn.model_selection import StratifiedKFold\n",
        "from sklearn.ensemble import RandomForestClassifier\n",
        "import warnings\n",
        "from sklearn.ensemble import VotingClassifier\n",
        "from sklearn.tree import DecisionTreeClassifier\n",
        "from sklearn.neighbors import KNeighborsClassifier\n",
        "from sklearn.linear_model import LogisticRegression\n",
        "from sklearn.ensemble import AdaBoostClassifier\n",
        "from sklearn.ensemble import BaggingClassifier\n",
        "from sklearn.metrics import mean_absolute_error, accuracy_score, confusion_matrix, classification_report, roc_auc_score"
      ],
      "execution_count": 0,
      "outputs": []
    },
    {
      "cell_type": "code",
      "metadata": {
        "id": "EpNJ-yzg2bHY",
        "colab_type": "code",
        "colab": {}
      },
      "source": [
        "X_train, X_test, y_train, y_test = train_test_split(X, y, test_size=0.30, random_state=101)"
      ],
      "execution_count": 0,
      "outputs": []
    },
    {
      "cell_type": "code",
      "metadata": {
        "id": "fORtIRwg2l6B",
        "colab_type": "code",
        "colab": {}
      },
      "source": [
        "SEED=444\n",
        "classifiersNames=['XGBClassifier','RandomForestClassifier','AdaBoostClassifier','KNeighborsClassifier', 'DecisionTreeClassifier', 'BaggingClassifier','VotingClassifier']\n",
        "\n",
        "accuracyOnTrainDataOfAllClassifiers=[]\n",
        "accuracyOnTestDataOfAllClassifiers=[]\n"
      ],
      "execution_count": 0,
      "outputs": []
    },
    {
      "cell_type": "code",
      "metadata": {
        "id": "joduDpjK4vy7",
        "colab_type": "code",
        "colab": {
          "base_uri": "https://localhost:8080/",
          "height": 1000
        },
        "outputId": "a8bbdcf6-934d-40e9-a277-5f4c35dc3e49"
      },
      "source": [
        "  xgb_clf = xgb.XGBClassifier(learning_rate=0.01)\n",
        "  xgb_clf.fit(X_train, y_train)\n",
        "  # Applying classifier on train (seen) set\n",
        "  predictions = xgb_clf.predict(X_train)\n",
        "  accuracy = accuracy_score(y_train, predictions)\n",
        "  accuracyOnTrainDataOfAllClassifiers.append(np.round(accuracy*100, 2))\n",
        "  print(\"Train accuracy of XGBClassifier\",np.round(accuracy*100, 2), '%')\n",
        "  \n",
        "  # Applying classifier on test (unseen) set\n",
        "  predictions = xgb_clf.predict(X_test)\n",
        "  accuracy = accuracy_score(y_test, predictions)\n",
        "  accuracyOnTestDataOfAllClassifiers.append(np.round(accuracy*100, 2))\n",
        "  print(\"Test accuracy XGBClassifier\",np.round(accuracy*100, 2), '%')\n",
        "\n",
        "  print(\"Confusion matrix of  XGBClassifier\")\n",
        "  print(confusion_matrix(y_test, predictions))\n",
        "  print(\"=\"*60)\n",
        "  print(classification_report(y_test, predictions))\n",
        "\n",
        "  clf_rf = RandomForestClassifier(n_estimators=25, random_state=12)\n",
        "  clf_rf.fit(X_train, y_train)\n",
        "  # Applying classifier on train (seen) set\n",
        "  predictions = clf_rf.predict(X_train)\n",
        "  accuracy = accuracy_score(y_train, predictions)\n",
        "  accuracyOnTrainDataOfAllClassifiers.append(np.round(accuracy*100, 2))\n",
        "  print(\"Train accuracy of RandomForestClassifier\",np.round(accuracy*100, 2), '%')\n",
        "  \n",
        "  # Applying classifier on test (unseen) set\n",
        "  predictions = clf_rf.predict(X_test)\n",
        "  accuracy = accuracy_score(y_test, predictions)\n",
        "  accuracyOnTestDataOfAllClassifiers.append(np.round(accuracy*100, 2))\n",
        "  print(\"Test accuracy RandomForestClassifier\",np.round(accuracy*100, 2), '%')\n",
        "\n",
        "  print(\"Confusion matrix of  RandomForestClassifier\")\n",
        "  print(confusion_matrix(y_test, predictions))\n",
        "  print(\"=\"*60)\n",
        "  print(classification_report(y_test, predictions))\n",
        "\n",
        "  clf_ab = AdaBoostClassifier(DecisionTreeClassifier(max_depth=1), n_estimators=200)\n",
        "  clf_ab.fit(X_train, y_train)\n",
        "  # Applying classifier on train (seen) set\n",
        "  predictions = clf_ab.predict(X_train)\n",
        "  accuracy = accuracy_score(y_train, predictions)\n",
        "  accuracyOnTrainDataOfAllClassifiers.append(np.round(accuracy*100, 2))\n",
        "  print(\"Train accuracy of AdaBoostClassifier\",np.round(accuracy*100, 2), '%')\n",
        "  \n",
        "  # Applying classifier on test (unseen) set\n",
        "  predictions = clf_ab.predict(X_test)\n",
        "  accuracy = accuracy_score(y_test, predictions)\n",
        "  accuracyOnTestDataOfAllClassifiers.append(np.round(accuracy*100, 2))\n",
        "  print(\"Test accuracy AdaBoostClassifier\",np.round(accuracy*100, 2), '%')\n",
        "\n",
        "  print(\"Confusion matrix of  AdaBoostClassifier\")\n",
        "  print(confusion_matrix(y_test, predictions))\n",
        "  print(\"=\"*60)\n",
        "  print(classification_report(y_test, predictions))\n",
        "\n",
        "  clf_knn = KNeighborsClassifier(n_neighbors=5, n_jobs=-1)\n",
        "  clf_knn.fit(X_train, y_train)\n",
        "  # Applying classifier on train (seen) set\n",
        "  predictions = clf_knn.predict(X_train)\n",
        "  accuracy = accuracy_score(y_train, predictions)\n",
        "  accuracyOnTrainDataOfAllClassifiers.append(np.round(accuracy*100, 2))\n",
        "  print(\"Train accuracy of KNeighborsClassifier at k=5\",np.round(accuracy*100, 2), '%')\n",
        "  \n",
        "  # Applying classifier on test (unseen) set\n",
        "  predictions = clf_knn.predict(X_test)\n",
        "  accuracy = accuracy_score(y_test, predictions)\n",
        "  accuracyOnTestDataOfAllClassifiers.append(np.round(accuracy*100, 2))\n",
        "  print(\"Test accuracy KNeighborsClassifier at k=5\",np.round(accuracy*100, 2), '%')\n",
        "\n",
        "  print(\"Confusion matrix of  KNeighborsClassifier\")\n",
        "  print(confusion_matrix(y_test, predictions))\n",
        "  print(\"=\"*60)\n",
        "  print(classification_report(y_test, predictions))\n",
        "\n",
        "\n",
        "  clf_dt = DecisionTreeClassifier(criterion = \"entropy\", random_state = 100, max_depth = 7, min_samples_leaf = 5)\n",
        "  clf_dt.fit(X_train, y_train)\n",
        "  # Applying classifier on train (seen) set\n",
        "  predictions = clf_dt.predict(X_train)\n",
        "  accuracy = accuracy_score(y_train, predictions)\n",
        "  accuracyOnTrainDataOfAllClassifiers.append(np.round(accuracy*100, 2))\n",
        "  print(\"Train accuracy of  DecisionTreeClassifier\",np.round(accuracy*100, 2), '%')\n",
        "  \n",
        "  # Applying classifier on test (unseen) set\n",
        "  predictions = clf_dt.predict(X_test)\n",
        "  accuracy = accuracy_score(y_test, predictions)\n",
        "  accuracyOnTestDataOfAllClassifiers.append(np.round(accuracy*100, 2))\n",
        "  print(\"Test accuracy DecisionTreeClassifier\",np.round(accuracy*100, 2), '%')\n",
        "\n",
        "  print(\"Confusion matrix of  DecisionTreeClassifier\")\n",
        "  print(confusion_matrix(y_test, predictions))\n",
        "  print(\"=\"*60)\n",
        "  print(classification_report(y_test, predictions))\n",
        "\n",
        "\n",
        "\n",
        "  dt = DecisionTreeClassifier(max_depth=4, min_samples_leaf=0.16, random_state=SEED)\n",
        "  # Instantiate a BaggingClassifier 'bc'\n",
        "  bc = BaggingClassifier(base_estimator=dt, n_estimators=300, n_jobs=-1) # n_jobs=-1 means that all the CPU cores are used in computation. \n",
        "  # Fit 'bc' to the training set\n",
        "  bc.fit(X_train, y_train)\n",
        "  # Predict test set labels\n",
        "  predictions = bc.predict(X_train)\n",
        "  # Evaluate and print test-set accuracy\n",
        "  accuracy = accuracy_score(y_train, predictions)\n",
        "  accuracyOnTrainDataOfAllClassifiers.append(np.round(accuracy*100, 2))\n",
        "  print(\"Test accuracy BaggingClassifier\",np.round(accuracy*100, 2), '%')\n",
        "\n",
        "  # Applying classifier on test (unseen) set\n",
        "  predictions = bc.predict(X_test)\n",
        "  accuracy = accuracy_score(y_test, predictions)\n",
        "  accuracyOnTestDataOfAllClassifiers.append(np.round(accuracy*100, 2))\n",
        "  print(\"Test accuracy  BaggingClassifier\",np.round(accuracy*100, 2), '%')\n",
        "\n",
        "  print(\"Confusion matrix of  BaggingClassifier\")\n",
        "  print(confusion_matrix(y_test, predictions))\n",
        "  print(\"=\"*60)\n",
        "  print(classification_report(y_test, predictions))\n",
        "\n",
        "\n"
      ],
      "execution_count": 36,
      "outputs": [
        {
          "output_type": "stream",
          "text": [
            "Train accuracy of XGBClassifier 83.28 %\n",
            "Test accuracy XGBClassifier 84.27 %\n",
            "Confusion matrix of  XGBClassifier\n",
            "[[157   6]\n",
            " [ 36  68]]\n",
            "============================================================\n",
            "              precision    recall  f1-score   support\n",
            "\n",
            "           0       0.81      0.96      0.88       163\n",
            "           1       0.92      0.65      0.76       104\n",
            "\n",
            "    accuracy                           0.84       267\n",
            "   macro avg       0.87      0.81      0.82       267\n",
            "weighted avg       0.85      0.84      0.84       267\n",
            "\n",
            "Train accuracy of RandomForestClassifier 99.36 %\n",
            "Test accuracy RandomForestClassifier 81.27 %\n",
            "Confusion matrix of  RandomForestClassifier\n",
            "[[144  19]\n",
            " [ 31  73]]\n",
            "============================================================\n",
            "              precision    recall  f1-score   support\n",
            "\n",
            "           0       0.82      0.88      0.85       163\n",
            "           1       0.79      0.70      0.74       104\n",
            "\n",
            "    accuracy                           0.81       267\n",
            "   macro avg       0.81      0.79      0.80       267\n",
            "weighted avg       0.81      0.81      0.81       267\n",
            "\n",
            "Train accuracy of AdaBoostClassifier 85.85 %\n",
            "Test accuracy AdaBoostClassifier 79.03 %\n",
            "Confusion matrix of  AdaBoostClassifier\n",
            "[[142  21]\n",
            " [ 35  69]]\n",
            "============================================================\n",
            "              precision    recall  f1-score   support\n",
            "\n",
            "           0       0.80      0.87      0.84       163\n",
            "           1       0.77      0.66      0.71       104\n",
            "\n",
            "    accuracy                           0.79       267\n",
            "   macro avg       0.78      0.77      0.77       267\n",
            "weighted avg       0.79      0.79      0.79       267\n",
            "\n",
            "Train accuracy of KNeighborsClassifier at k=5 75.08 %\n",
            "Test accuracy KNeighborsClassifier at k=5 62.92 %\n",
            "Confusion matrix of  KNeighborsClassifier\n",
            "[[131  32]\n",
            " [ 67  37]]\n",
            "============================================================\n",
            "              precision    recall  f1-score   support\n",
            "\n",
            "           0       0.66      0.80      0.73       163\n",
            "           1       0.54      0.36      0.43       104\n",
            "\n",
            "    accuracy                           0.63       267\n",
            "   macro avg       0.60      0.58      0.58       267\n",
            "weighted avg       0.61      0.63      0.61       267\n",
            "\n",
            "Train accuracy of  DecisionTreeClassifier 85.85 %\n",
            "Test accuracy DecisionTreeClassifier 82.4 %\n",
            "Confusion matrix of  DecisionTreeClassifier\n",
            "[[147  16]\n",
            " [ 31  73]]\n",
            "============================================================\n",
            "              precision    recall  f1-score   support\n",
            "\n",
            "           0       0.83      0.90      0.86       163\n",
            "           1       0.82      0.70      0.76       104\n",
            "\n",
            "    accuracy                           0.82       267\n",
            "   macro avg       0.82      0.80      0.81       267\n",
            "weighted avg       0.82      0.82      0.82       267\n",
            "\n",
            "Test accuracy BaggingClassifier 78.46 %\n",
            "Test accuracy  BaggingClassifier 79.03 %\n",
            "Confusion matrix of  BaggingClassifier\n",
            "[[143  20]\n",
            " [ 36  68]]\n",
            "============================================================\n",
            "              precision    recall  f1-score   support\n",
            "\n",
            "           0       0.80      0.88      0.84       163\n",
            "           1       0.77      0.65      0.71       104\n",
            "\n",
            "    accuracy                           0.79       267\n",
            "   macro avg       0.79      0.77      0.77       267\n",
            "weighted avg       0.79      0.79      0.79       267\n",
            "\n"
          ],
          "name": "stdout"
        }
      ]
    },
    {
      "cell_type": "code",
      "metadata": {
        "id": "7PB-Kx7G5ShP",
        "colab_type": "code",
        "colab": {
          "base_uri": "https://localhost:8080/",
          "height": 323
        },
        "outputId": "ba9137af-adb1-4198-ea2c-595d010b739c"
      },
      "source": [
        "  #voting cassefier\n",
        "  # Instantiate individual classifiers\n",
        "  lr = LogisticRegression(random_state=SEED)\n",
        "  xgb_clf = xgb.XGBClassifier(learning_rate=0.01)\n",
        "  clf_rf = RandomForestClassifier(n_estimators=25, random_state=12)\n",
        "\n",
        "  # Define a list called classifier that contains the tuples (classifier_name, classifier)\n",
        "  classifiers = [('Logistic Regression', lr),\n",
        "  ('XGB', xgb_clf),\n",
        "  ('Random forest', clf_rf)]\n",
        "  warnings.filterwarnings(\"ignore\")\n",
        "  for clf_name, clf in classifiers:\n",
        "    #fit clf to the training set\n",
        "    clf.fit(X_train, y_train)\n",
        "    # Predict the labels of the test set\n",
        "    y_pred = clf.predict(X_test)\n",
        "    # Evaluate the accuracy of clf on the test set\n",
        "    print('{:s} : {:.3f}'.format(clf_name, accuracy_score(y_test, y_pred)))\n",
        "  vc = VotingClassifier(estimators=classifiers, voting='soft')\n",
        "  # Fit 'vc' to the traing set and predict test set labels\n",
        "  vc.fit(X_train, y_train)\n",
        "\n",
        "\n",
        "  predictions = vc.predict(X_train)\n",
        "  # Evaluate and print test-set accuracy\n",
        "  accuracy = accuracy_score(y_train, predictions)\n",
        "  accuracyOnTrainDataOfAllClassifiers.append(np.round(accuracy*100, 2))\n",
        "  print(\"Test accuracy Voting classifier\",np.round(accuracy*100, 2), '%')\n",
        "\n",
        "  # Applying classifier on test (unseen) set\n",
        "  predictions = vc.predict(X_test)\n",
        "  accuracy = accuracy_score(y_test, predictions)\n",
        "  accuracyOnTestDataOfAllClassifiers.append(np.round(accuracy*100, 2))\n",
        "  print(\"Test accuracy Voting classifier\",np.round(accuracy*100, 2), '%')\n",
        "\n",
        "  print(\"Confusion matrix of  Voting classifier\")\n",
        "  print(confusion_matrix(y_test, predictions))\n",
        "  print(\"=\"*60)\n",
        "  print(classification_report(y_test, predictions))\n",
        "\n",
        "\n"
      ],
      "execution_count": 37,
      "outputs": [
        {
          "output_type": "stream",
          "text": [
            "Logistic Regression : 0.801\n",
            "XGB : 0.843\n",
            "Random forest : 0.813\n",
            "Test accuracy Voting classifier 89.55 %\n",
            "Test accuracy Voting classifier 84.27 %\n",
            "Confusion matrix of  Voting classifier\n",
            "[[154   9]\n",
            " [ 33  71]]\n",
            "============================================================\n",
            "              precision    recall  f1-score   support\n",
            "\n",
            "           0       0.82      0.94      0.88       163\n",
            "           1       0.89      0.68      0.77       104\n",
            "\n",
            "    accuracy                           0.84       267\n",
            "   macro avg       0.86      0.81      0.83       267\n",
            "weighted avg       0.85      0.84      0.84       267\n",
            "\n"
          ],
          "name": "stdout"
        }
      ]
    },
    {
      "cell_type": "code",
      "metadata": {
        "id": "r_syKVbH8DBd",
        "colab_type": "code",
        "colab": {
          "base_uri": "https://localhost:8080/",
          "height": 1000
        },
        "outputId": "0450967f-9187-49d9-8d53-2f2d5b18e0f1"
      },
      "source": [
        "from sklearn.metrics import roc_curve  \n",
        "\n",
        "probs = xgb_clf.predict_proba(X_test)  \n",
        "probs = probs[:, 1] \n",
        "fper, tper, thresholds = roc_curve(y_test, probs) \n",
        "plt.plot(fper, tper)\n",
        "plt.plot([0,1], [0,1], 'k--')\n",
        "plt.xlabel('False Positive Rate')\n",
        "plt.ylabel('True Positive Rate')\n",
        "plt.title('XGBoost ROC curve')\n",
        "# show the plot\n",
        "plt.show()\n",
        "\n",
        "probs = clf_rf.predict_proba(X_test)  \n",
        "probs = probs[:, 1] \n",
        "fper, tper, thresholds = roc_curve(y_test, probs) \n",
        "plt.plot(fper, tper)\n",
        "plt.plot([0,1], [0,1], 'k--')\n",
        "plt.xlabel('False Positive Rate')\n",
        "plt.ylabel('True Positive Rate')\n",
        "plt.title('RandomForestClassifier ROC curve')\n",
        "# show the plot\n",
        "plt.show()\n",
        "\n",
        "probs = clf_ab.predict_proba(X_test)  \n",
        "probs = probs[:, 1] \n",
        "fper, tper, thresholds = roc_curve(y_test, probs) \n",
        "plt.plot(fper, tper)\n",
        "plt.plot([0,1], [0,1], 'k--')\n",
        "plt.xlabel('False Positive Rate')\n",
        "plt.ylabel('True Positive Rate')\n",
        "plt.title('AdaBooost ROC curve')\n",
        "# show the plot\n",
        "plt.show()\n",
        "\n",
        "probs = clf_knn.predict_proba(X_test)  \n",
        "probs = probs[:, 1] \n",
        "fper, tper, thresholds = roc_curve(y_test, probs) \n",
        "plt.plot(fper, tper)\n",
        "plt.plot([0,1], [0,1], 'k--')\n",
        "plt.xlabel('False Positive Rate')\n",
        "plt.ylabel('True Positive Rate')\n",
        "plt.title('KNN ROC curve')\n",
        "# show the plot\n",
        "plt.show()\n",
        "\n",
        "probs = clf_dt.predict_proba(X_test)  \n",
        "probs = probs[:, 1] \n",
        "fper, tper, thresholds = roc_curve(y_test, probs) \n",
        "plt.plot(fper, tper)\n",
        "plt.plot([0,1], [0,1], 'k--')\n",
        "plt.xlabel('False Positive Rate')\n",
        "plt.ylabel('True Positive Rate')\n",
        "plt.title('DecisionTree ROC curve')\n",
        "# show the plot\n",
        "plt.show()\n",
        "\n",
        "\n",
        "probs = bc.predict_proba(X_test)  \n",
        "probs = probs[:, 1] \n",
        "fper, tper, thresholds = roc_curve(y_test, probs) \n",
        "plt.plot(fper, tper)\n",
        "plt.plot([0,1], [0,1], 'k--')\n",
        "plt.xlabel('False Positive Rate')\n",
        "plt.ylabel('True Positive Rate')\n",
        "plt.title('Bagging Classifier ROC curve')\n",
        "# show the plot\n",
        "plt.show()\n",
        "\n",
        "probs = vc.predict_proba(X_test)  \n",
        "probs = probs[:, 1] \n",
        "fper, tper, thresholds = roc_curve(y_test, probs) \n",
        "plt.plot(fper, tper)\n",
        "plt.plot([0,1], [0,1], 'k--')\n",
        "plt.xlabel('False Positive Rate')\n",
        "plt.ylabel('True Positive Rate')\n",
        "plt.title('Votimg classifier ROC curve')\n",
        "# show the plot\n",
        "plt.show()"
      ],
      "execution_count": 38,
      "outputs": [
        {
          "output_type": "display_data",
          "data": {
            "image/png": "[encoded data removed]",
            "text/plain": [
              "<Figure size 432x288 with 1 Axes>"
            ]
          },
          "metadata": {
            "tags": [],
            "needs_background": "light"
          }
        },
        {
          "output_type": "display_data",
          "data": {
            "image/png": "[encoded data removed]",
            "text/plain": [
              "<Figure size 432x288 with 1 Axes>"
            ]
          },
          "metadata": {
            "tags": [],
            "needs_background": "light"
          }
        },
        {
          "output_type": "display_data",
          "data": {
            "image/png": "[encoded data removed]",
            "text/plain": [
              "<Figure size 432x288 with 1 Axes>"
            ]
          },
          "metadata": {
            "tags": [],
            "needs_background": "light"
          }
        },
        {
          "output_type": "display_data",
          "data": {
            "image/png": "[encoded data removed]",
            "text/plain": [
              "<Figure size 432x288 with 1 Axes>"
            ]
          },
          "metadata": {
            "tags": [],
            "needs_background": "light"
          }
        },
        {
          "output_type": "display_data",
          "data": {
            "image/png": "[encoded data removed]",
            "text/plain": [
              "<Figure size 432x288 with 1 Axes>"
            ]
          },
          "metadata": {
            "tags": [],
            "needs_background": "light"
          }
        },
        {
          "output_type": "display_data",
          "data": {
            "image/png": "[encoded data removed]",
            "text/plain": [
              "<Figure size 432x288 with 1 Axes>"
            ]
          },
          "metadata": {
            "tags": [],
            "needs_background": "light"
          }
        },
        {
          "output_type": "display_data",
          "data": {
            "image/png": "[encoded data removed]",
            "text/plain": [
              "<Figure size 432x288 with 1 Axes>"
            ]
          },
          "metadata": {
            "tags": [],
            "needs_background": "light"
          }
        }
      ]
    },
    {
      "cell_type": "code",
      "metadata": {
        "id": "6hfBlWt9-hzR",
        "colab_type": "code",
        "colab": {}
      },
      "source": [
        ""
      ],
      "execution_count": 0,
      "outputs": []
    },
    {
      "cell_type": "code",
      "metadata": {
        "id": "Xjho8xb_J8Wq",
        "colab_type": "code",
        "colab": {}
      },
      "source": [
        ""
      ],
      "execution_count": 0,
      "outputs": []
    },
    {
      "cell_type": "code",
      "metadata": {
        "id": "hrEnHBb0KGUf",
        "colab_type": "code",
        "colab": {}
      },
      "source": [
        ""
      ],
      "execution_count": 0,
      "outputs": []
    },
    {
      "cell_type": "code",
      "metadata": {
        "id": "f3RgTisADies",
        "colab_type": "code",
        "colab": {
          "base_uri": "https://localhost:8080/",
          "height": 297
        },
        "outputId": "c9fa91e9-a15d-490c-8775-fad66a9193d9"
      },
      "source": [
        "n_groups = 7\n",
        "# create plot\n",
        "fig, ax = plt.subplots()\n",
        "index = np.arange(n_groups)\n",
        "bar_width = 0.25\n",
        "opacity = 0.9\n",
        "\n",
        "rects1 = plt.barh(index, accuracyOnTrainDataOfAllClassifiers, bar_width,\n",
        "alpha=opacity,\n",
        "color='b',\n",
        "label='Training Accuracy')\n",
        "\n",
        "rects2 = plt.barh(index + bar_width, accuracyOnTestDataOfAllClassifiers, bar_width,\n",
        "alpha=opacity,\n",
        "color='r',\n",
        "label='Testing Accuracy')\n",
        "\n",
        "plt.xlabel('Classifiers')\n",
        "plt.ylabel('Accuracy')\n",
        "plt.title('Classifiers acuuracy rates of training and testing data')\n",
        "plt.yticks(index + bar_width, classifiersNames)\n",
        "plt.legend()\n",
        "plt.tight_layout()\n",
        "plt.show()\n"
      ],
      "execution_count": 39,
      "outputs": [
        {
          "output_type": "display_data",
          "data": {
            "image/png": "[encoded data removed]",
            "text/plain": [
              "<Figure size 432x288 with 1 Axes>"
            ]
          },
          "metadata": {
            "tags": [],
            "needs_background": "light"
          }
        }
      ]
    },
    {
      "cell_type": "code",
      "metadata": {
        "id": "l9S-hiVmEut8",
        "colab_type": "code",
        "colab": {}
      },
      "source": [
        "df = pd.DataFrame({\"Train\":accuracyOnTrainDataOfAllClassifiers,\n",
        "                  \"Test\":accuracyOnTestDataOfAllClassifiers,\n",
        "                   \"lables\":classifiersNames})"
      ],
      "execution_count": 0,
      "outputs": []
    },
    {
      "cell_type": "code",
      "metadata": {
        "id": "wSeg7_4BKTQV",
        "colab_type": "code",
        "colab": {
          "base_uri": "https://localhost:8080/",
          "height": 266
        },
        "outputId": "154a5d13-247e-4e12-d6d2-5d5b223c5aae"
      },
      "source": [
        "df"
      ],
      "execution_count": 41,
      "outputs": [
        {
          "output_type": "execute_result",
          "data": {
            "text/html": [
              "<div>\n",
              "<style scoped>\n",
              "    .dataframe tbody tr th:only-of-type {\n",
              "        vertical-align: middle;\n",
              "    }\n",
              "\n",
              "    .dataframe tbody tr th {\n",
              "        vertical-align: top;\n",
              "    }\n",
              "\n",
              "    .dataframe thead th {\n",
              "        text-align: right;\n",
              "    }\n",
              "</style>\n",
              "<table border=\"1\" class=\"dataframe\">\n",
              "  <thead>\n",
              "    <tr style=\"text-align: right;\">\n",
              "      <th></th>\n",
              "      <th>Train</th>\n",
              "      <th>Test</th>\n",
              "      <th>lables</th>\n",
              "    </tr>\n",
              "  </thead>\n",
              "  <tbody>\n",
              "    <tr>\n",
              "      <th>0</th>\n",
              "      <td>83.28</td>\n",
              "      <td>84.27</td>\n",
              "      <td>XGBClassifier</td>\n",
              "    </tr>\n",
              "    <tr>\n",
              "      <th>1</th>\n",
              "      <td>99.36</td>\n",
              "      <td>81.27</td>\n",
              "      <td>RandomForestClassifier</td>\n",
              "    </tr>\n",
              "    <tr>\n",
              "      <th>2</th>\n",
              "      <td>85.85</td>\n",
              "      <td>79.03</td>\n",
              "      <td>AdaBoostClassifier</td>\n",
              "    </tr>\n",
              "    <tr>\n",
              "      <th>3</th>\n",
              "      <td>75.08</td>\n",
              "      <td>62.92</td>\n",
              "      <td>KNeighborsClassifier</td>\n",
              "    </tr>\n",
              "    <tr>\n",
              "      <th>4</th>\n",
              "      <td>85.85</td>\n",
              "      <td>82.40</td>\n",
              "      <td>DecisionTreeClassifier</td>\n",
              "    </tr>\n",
              "    <tr>\n",
              "      <th>5</th>\n",
              "      <td>78.46</td>\n",
              "      <td>79.03</td>\n",
              "      <td>BaggingClassifier</td>\n",
              "    </tr>\n",
              "    <tr>\n",
              "      <th>6</th>\n",
              "      <td>89.55</td>\n",
              "      <td>84.27</td>\n",
              "      <td>VotingClassifier</td>\n",
              "    </tr>\n",
              "  </tbody>\n",
              "</table>\n",
              "</div>"
            ],
            "text/plain": [
              "   Train   Test                  lables\n",
              "0  83.28  84.27           XGBClassifier\n",
              "1  99.36  81.27  RandomForestClassifier\n",
              "2  85.85  79.03      AdaBoostClassifier\n",
              "3  75.08  62.92    KNeighborsClassifier\n",
              "4  85.85  82.40  DecisionTreeClassifier\n",
              "5  78.46  79.03       BaggingClassifier\n",
              "6  89.55  84.27        VotingClassifier"
            ]
          },
          "metadata": {
            "tags": []
          },
          "execution_count": 41
        }
      ]
    },
    {
      "cell_type": "code",
      "metadata": {
        "id": "Abrxzt3GF_hv",
        "colab_type": "code",
        "colab": {}
      },
      "source": [
        "#sorting values based on Test accuracy to display\n",
        "df_sorted= df.sort_values('Test')"
      ],
      "execution_count": 0,
      "outputs": []
    },
    {
      "cell_type": "code",
      "metadata": {
        "id": "ENHn7eqYGEb0",
        "colab_type": "code",
        "colab": {
          "base_uri": "https://localhost:8080/",
          "height": 297
        },
        "outputId": "1047dac5-0291-4713-e7f6-3db2979d7255"
      },
      "source": [
        "n_groups = 7\n",
        "# create plot\n",
        "fig, ax = plt.subplots()\n",
        "index = np.arange(n_groups)\n",
        "bar_width = 0.25\n",
        "opacity = 0.9\n",
        "\n",
        "rects1 = plt.barh(index, df_sorted.Train, bar_width,\n",
        "alpha=opacity,\n",
        "color='b',\n",
        "label='Training Accuracy')\n",
        "\n",
        "rects2 = plt.barh(index + bar_width, df_sorted.Test, bar_width,\n",
        "alpha=opacity,\n",
        "color='r',\n",
        "label='Testing Accuracy')\n",
        "\n",
        "plt.xlabel('Classifiers')\n",
        "plt.ylabel('Accuracy')\n",
        "plt.title('Classifiers acuuracy rates of training and testing data')\n",
        "plt.yticks(index + bar_width, df_sorted.lables)\n",
        "plt.legend()\n",
        "plt.tight_layout()\n",
        "plt.show()\n"
      ],
      "execution_count": 43,
      "outputs": [
        {
          "output_type": "display_data",
          "data": {
            "image/png": "[encoded data removed]",
            "text/plain": [
              "<Figure size 432x288 with 1 Axes>"
            ]
          },
          "metadata": {
            "tags": [],
            "needs_background": "light"
          }
        }
      ]
    },
    {
      "cell_type": "code",
      "metadata": {
        "id": "Kc8ttdgvGFta",
        "colab_type": "code",
        "colab": {}
      },
      "source": [
        ""
      ],
      "execution_count": 0,
      "outputs": []
    },
    {
      "cell_type": "markdown",
      "metadata": {
        "id": "ShhFiYjVKo_o",
        "colab_type": "text"
      },
      "source": [
        "\n",
        "# **We can clearly see in ROC curve and bar plot,  Voting classifier performed well on titanic dataset**"
      ]
    }
  ]
}